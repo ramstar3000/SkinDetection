{
  "cells": [
    {
      "cell_type": "markdown",
      "metadata": {
        "id": "view-in-github",
        "colab_type": "text"
      },
      "source": [
        "<a href=\"https://colab.research.google.com/github/ramstar3000/SkinDetection/blob/main/debug/CNN_debug.ipynb\" target=\"_parent\"><img src=\"https://colab.research.google.com/assets/colab-badge.svg\" alt=\"Open In Colab\"/></a>"
      ]
    },
    {
      "cell_type": "code",
      "execution_count": null,
      "metadata": {
        "colab": {
          "base_uri": "https://localhost:8080/"
        },
        "id": "mDwu1QdM6Uck",
        "outputId": "8ce76df3-5e29-4eda-fc55-c089643d1bb5"
      },
      "outputs": [
        {
          "output_type": "stream",
          "name": "stdout",
          "text": [
            "\u001b[0m\u001b[01;34msample_data\u001b[0m/\n"
          ]
        }
      ],
      "source": [
        "import numpy as np\n",
        "import matplotlib.pyplot as plt\n",
        "import matplotlib.image as mpimg\n",
        "import pandas as pd\n",
        "from google.colab import files,output\n",
        "from tqdm import tqdm\n",
        "import matplotlib.pyplot as plt\n",
        "\n",
        "from random import randint\n",
        "from cv2 import warpAffine, getRotationMatrix2D, resize\n",
        "\n",
        "%ls"
      ]
    },
    {
      "cell_type": "code",
      "source": [],
      "metadata": {
        "id": "Tn0ZIigprjz7"
      },
      "execution_count": null,
      "outputs": []
    },
    {
      "cell_type": "code",
      "execution_count": null,
      "metadata": {
        "id": "dT4Wxt0nlAmm"
      },
      "outputs": [],
      "source": [
        "! pip install -q kaggle\n",
        "files.upload()\n",
        "\n",
        "! mkdir ~/.kaggle\n",
        "! cp kaggle.json ~/.kaggle/\n",
        "! chmod 600 ~/.kaggle/kaggle.json\n",
        "! kaggle datasets list\n",
        "\n",
        "import kaggle\n",
        "\n",
        "! kaggle datasets download -d ramstar3000/ham10000\n",
        "! mkdir Images\n",
        "! unzip ham10000.zip -d Images\n",
        "output.clear()\n",
        "\n",
        "%ls"
      ]
    },
    {
      "cell_type": "code",
      "execution_count": null,
      "metadata": {
        "id": "JsdQGCTyyDu3"
      },
      "outputs": [],
      "source": [
        "def rotation(image): # Image array\n",
        "\n",
        "  image = (image.astype(np.uint8)).reshape(28,28,3)\n",
        "\n",
        "  i = randint(0,15)\n",
        "  height, width = image.shape[:2]\n",
        "  center = (28/2, 28/2)\n",
        "  # print(center)\n",
        "  #print(image.shape)\n",
        "  image = warpAffine(src=image, M=getRotationMatrix2D(center=center, angle=i, scale=1) , dsize=(width, height))\n",
        "\n",
        "  newImage = resize(image, (28, 28))\n",
        "\n",
        "  image = (newImage.astype(np.float64)).reshape(2352,)\n",
        "\n",
        "  return image"
      ]
    },
    {
      "cell_type": "code",
      "execution_count": null,
      "metadata": {
        "id": "kRzKFTAZfRR4"
      },
      "outputs": [],
      "source": [
        "def stratify_img_matrix():\n",
        "    csv = pd.read_csv('Images/out.csv')   #/content/Images/hmnist_28_28_RGB.csv\n",
        "\n",
        "    _ = np.array(pd.DataFrame(csv))\n",
        "\n",
        "    print(_.shape)\n",
        "\n",
        "    for row in _:\n",
        "      #print(row[-1])\n",
        "      #print(1)\n",
        "      if row[-1] != 4 and row[-1] != 6 and row[-1] != 2:\n",
        "        label = row[-1]\n",
        "        new = rotation(row[:-1])\n",
        "        new = np.append(new,int(label))\n",
        "\n",
        "        #print(new.shape)\n",
        "        assert new[-1] == label\n",
        "\n",
        "        #print(_.shape)\n",
        "        #print(new.shape)\n",
        "\n",
        "        _ = np.vstack([_, new])\n",
        "\n",
        "        #_ = np.append(_,new,axis=0)\n",
        "\n",
        "\n",
        "    print(_.shape)\n",
        "\n",
        "    csv = pd.DataFrame(_)\n",
        "\n",
        "    column_names = list(range(2352))\n",
        "    column_names.append('label')\n",
        "    csv.columns = column_names\n",
        "\n",
        "\n",
        "    from pathlib import Path\n",
        "    filepath = Path('Images/out2.csv')\n",
        "    #filepath.parent.mkdir(parents=True, exist_ok=True)\n",
        "    csv.to_csv(filepath, header=False, index=False)\n",
        "\n",
        "\n",
        "#stratify_img_matrix()"
      ]
    },
    {
      "cell_type": "code",
      "execution_count": null,
      "metadata": {
        "id": "MyeO0S8j6WxQ"
      },
      "outputs": [],
      "source": [
        "def get_img_matrix():\n",
        "\n",
        "    csv = pd.read_csv('Images/out2.csv')   #/content/Images/hmnist_28_28_RGB.csv\n",
        "\n",
        "    #print(csv)\n",
        "    #csv = pd.DataFrame(_)\n",
        "\n",
        "    column_names = list(range(1,2353))\n",
        "    column_names.append('label')\n",
        "    csv.columns = column_names\n",
        "\n",
        "\n",
        "\n",
        "    y = csv['label']\n",
        "\n",
        "    #csv['label'].value_counts().plot(kind='bar')\n",
        "\n",
        "    df = pd.DataFrame(y)\n",
        "\n",
        "\n",
        "    X = csv.drop(columns = ['label'])\n",
        "    X = (np.array(X).reshape(-1,28*28*3)) # 3d as 3 channels, -1 refers to orig of 10005\n",
        "\n",
        "\n",
        "    #Now do rotating nonsesne\n",
        "\n",
        "\n",
        "    return X[:-1],y[:-1]\n",
        "\n",
        "\n",
        "#g = get_img_matrix()"
      ]
    },
    {
      "cell_type": "code",
      "execution_count": null,
      "metadata": {
        "id": "H7S9lRMrhG9x"
      },
      "outputs": [],
      "source": [
        "from sklearn.model_selection import train_test_split\n",
        "def split(X,y):\n",
        "\n",
        "  return train_test_split(\n",
        "      X, y, test_size=0.2, random_state=2)   #Start with random split, should do stratified?\n"
      ]
    },
    {
      "cell_type": "code",
      "execution_count": null,
      "metadata": {
        "id": "5wDmuXdMA4CT"
      },
      "outputs": [],
      "source": [
        "def nanargmax(arr):\n",
        "    idx = np.nanargmax(arr)\n",
        "    idxs = np.unravel_index(idx, arr.shape) #Get index as multi dimension\n",
        "    return idxs"
      ]
    },
    {
      "cell_type": "code",
      "execution_count": null,
      "metadata": {
        "id": "jkoT33GJ6aFX"
      },
      "outputs": [],
      "source": [
        "def init_filter(shape):\n",
        "    stddev = 1 / np.sqrt(np.prod(shape))   # STDDEV used to give rough scale to values\n",
        "    return np.random.normal(loc=0, scale=stddev, size=shape)"
      ]
    },
    {
      "cell_type": "code",
      "execution_count": null,
      "metadata": {
        "id": "6s1bQkI2kKsx"
      },
      "outputs": [],
      "source": [
        "def init_weights(shape):\n",
        "    return np.random.normal(size=shape) * 0.01"
      ]
    },
    {
      "cell_type": "code",
      "execution_count": null,
      "metadata": {
        "id": "L_-Xm9nmXvBG"
      },
      "outputs": [],
      "source": [
        "def relu(array):\n",
        "    array[array<=0] = 0\n",
        "    return array"
      ]
    },
    {
      "cell_type": "code",
      "execution_count": null,
      "metadata": {
        "id": "xDzpRu9k-izq"
      },
      "outputs": [],
      "source": [
        "def convolution(image, filt, bias, s=1):\n",
        "\n",
        "    (n_f, n_c_f, f, _) = filt.shape # filter dimensions\n",
        "    n_c, in_dim, _ = image.shape # image dimensions\n",
        "\n",
        "    out_dim = int((in_dim - f)/s)+1 # calculate output dimensions some mad formula ting\n",
        "\n",
        "    # Dimensions of filter must match channels of input image\n",
        "\n",
        "    out = np.zeros((n_f,out_dim,out_dim))   #If 8 filters, 8 dimensions(1) provided\n",
        "\n",
        "    # convolve the filter over every part of the image, adding the bias at each step.\n",
        "    #Need to look over and adjust\n",
        "    for curr_f in range(n_f):\n",
        "        curr_y = out_y = 0\n",
        "        while curr_y + f <= in_dim:\n",
        "            curr_x = out_x = 0\n",
        "            while curr_x + f <= in_dim:\n",
        "                #print(curr_f)\n",
        "                out[curr_f, out_y, out_x] = np.sum(filt[curr_f] * image[:,curr_y:curr_y+f, curr_x:curr_x+f]) + bias[curr_f]\n",
        "                curr_x += s #Slide across\n",
        "                out_x += 1  #Move into next location for output\n",
        "            curr_y += s  #Slide down\n",
        "            out_y += 1   #Move 1\n",
        "\n",
        "    return out\n",
        "\n",
        "\n",
        "def convolutionBackward(dconv_prev, conv_in, filt, s): #Analyse\n",
        "\n",
        "    #Backpropagation through a convolutional layer.\n",
        "\n",
        "    (n_f, n_c, f, _) = filt.shape\n",
        "    (_a, orig_dim, _b) = conv_in.shape\n",
        "\n",
        "    #assert _ == _b\n",
        "\n",
        "    ## initialize derivatives\n",
        "    dout = np.zeros(conv_in.shape)\n",
        "    dfilt = np.zeros(filt.shape)\n",
        "    dbias = np.zeros((n_f,1))\n",
        "    for curr_f in range(n_f):\n",
        "        # loop through all filters\n",
        "        curr_y = out_y = 0\n",
        "        while curr_y + f <= orig_dim:\n",
        "            curr_x = out_x = 0\n",
        "            while curr_x + f <= orig_dim:\n",
        "                # loss gradient of filter (used to update the filter)\n",
        "                dfilt[curr_f] += dconv_prev[curr_f, out_y, out_x] * conv_in[:, curr_y:curr_y+f, curr_x:curr_x+f]\n",
        "                # loss gradient of the input to the convolution operation (conv1 in the case of this network)\n",
        "                dout[:, curr_y:curr_y+f, curr_x:curr_x+f] += dconv_prev[curr_f, out_y, out_x] * filt[curr_f]\n",
        "                curr_x += s\n",
        "                out_x += 1\n",
        "            curr_y += s\n",
        "            out_y += 1\n",
        "        # loss gradient of the bias\n",
        "        dbias[curr_f] = np.sum(dconv_prev[curr_f])\n",
        "\n",
        "    return dout, dfilt, dbias\n",
        "\n"
      ]
    },
    {
      "cell_type": "code",
      "execution_count": null,
      "metadata": {
        "id": "qfGnroi3YiPT"
      },
      "outputs": [],
      "source": [
        "def maxpool(image, f=2, s=2):\n",
        "\n",
        "    #Downsample image using size of f and stride of s\n",
        "\n",
        "    try:\n",
        "      n_c, h_prev, w_prev = image.shape #Get old/current dimensions\n",
        "    except:\n",
        "      h_prev, w_prev = image.shape\n",
        "      n_c = 1\n",
        "\n",
        "    h = ((h_prev - f)/s)+1  #Calculate new dimensions of img\n",
        "    w = ((w_prev - f)/s)+1  #Int been moved so beware int((h_prev - f)/s)+1\n",
        "\n",
        "    #print(image)\n",
        "    #print(image[0, 0:2, 4:6])  #[channel num, x:x+2 , y:y+2], is a 2x2 grid\n",
        "\n",
        "\n",
        "    output = np.zeros((n_c, int(h), int(w)))  #Make empty array to be filled\n",
        "\n",
        "    for i in range(n_c): #Once for each channel\n",
        "        # slide maxpool window over each part of the image and assign the max value at each step to the output\n",
        "        curr_y = out_y = 0     #Initialised\n",
        "        while curr_y + f <= h_prev:\n",
        "            curr_x = out_x = 0\n",
        "            while curr_x + f <= w_prev:  #Only runs till reaches end of line\n",
        "                output[i, out_y, out_x] = np.max(image[i, curr_y:curr_y+f, curr_x:curr_x+f])\n",
        "                curr_x += s  #Slide across\n",
        "                out_x += 1   #Next index in final array\n",
        "            curr_y += s    #Slide down\n",
        "            out_y += 1     #Move into next index downwards\n",
        "\n",
        "    return output\n",
        "\n",
        "def maxpoolBackward(dpool, orig, f, s): #Analyse\n",
        "\n",
        "    #Backpropagation through a maxpooling\n",
        "    # Gradients are passed through the indices of greatest value in the original maxpooling during the forward step.\n",
        "\n",
        "    (n_c, orig_dim, _) = orig.shape\n",
        "    dout = np.zeros(orig.shape)\n",
        "\n",
        "    #print(orig)\n",
        "\n",
        "    for c in range(n_c):   #Once for each channel\n",
        "        curr_y = out_y = 0\n",
        "        while curr_y + f <= orig_dim:\n",
        "            curr_x = out_x = 0\n",
        "            while curr_x + f <= orig_dim:\n",
        "                # obtain index of largest value in input for current window\n",
        "\n",
        "                (a, b) = nanargmax(orig[c, curr_y:curr_y+f, curr_x:curr_x+f])\n",
        "                dout[c, curr_y+a, curr_x+b] = dpool[c, out_y, out_x]\n",
        "\n",
        "                curr_x += s\n",
        "                out_x += 1\n",
        "            curr_y += s\n",
        "            out_y += 1\n",
        "\n",
        "    #print(dout)\n",
        "\n",
        "\n",
        "    return dout"
      ]
    },
    {
      "cell_type": "code",
      "execution_count": null,
      "metadata": {
        "id": "t2vlEEAyHNnk"
      },
      "outputs": [],
      "source": [
        "def softmax(X):\n",
        "    out = np.exp(X)\n",
        "    return out/np.sum(out)\n",
        "\n",
        "def categoricalCrossEntropy(probs, label):\n",
        "    return -np.sum(label * np.log(probs))"
      ]
    },
    {
      "cell_type": "code",
      "execution_count": null,
      "metadata": {
        "id": "6SufLi18FKuT"
      },
      "outputs": [],
      "source": [
        "def conv(image, label, params, conv_s, pool_f, pool_s):  #1#1#1# Analyse backward, also may be broken\n",
        "\n",
        "    [f1, f2, w3, w4, b1, b2, b3, b4] = params\n",
        "\n",
        "    ##############     Forward       ###############\n",
        "\n",
        "    conv1 = convolution(image, f1, b1, conv_s) # convolution\n",
        "    conv1 = relu(conv1) # pass through ReLU non-linearity\n",
        "\n",
        "    conv2 = convolution(conv1, f2, b2, conv_s) # second convolution\n",
        "    conv2 = relu(conv2) # pass through ReLU non-linearity\n",
        "    #print(conv2.shape)\n",
        "\n",
        "    pooled = maxpool(conv2, pool_f, pool_s) # maxpooling\n",
        "\n",
        "    (nf2, dim2, _) = pooled.shape\n",
        "    fc = pooled.reshape((nf2 * dim2 * dim2, 1)) # flatten\n",
        "    #print(fc.shape)\n",
        "\n",
        "    z = w3.dot(fc) + b3 # first dense layer\n",
        "    z = relu(z) # pass through ReLU non-linearity\n",
        "\n",
        "    out = w4.dot(z) + b4 # second dense layer\n",
        "\n",
        "    probs = softmax(out) # predict class probabilities with the softmax activation function\n",
        "    #print(probs)\n",
        "\n",
        "    #Calculate Loss (Loss function is for batch, cost for multiple)\n",
        "    loss = categoricalCrossEntropy(probs, label) # categorical cross-entropy loss\n",
        "\n",
        "    #############      Backward      ###############\n",
        "\n",
        "    dout = probs - label # (7,)   derivative of loss w.r.t. final dense layer output\n",
        "    dw4 = dout.dot(z.T) # loss gradient of final dense layer weights\n",
        "    db4 = np.sum(dout, axis = 1).reshape(b4.shape) # loss gradient of final dense layer biases\n",
        "\n",
        "    dz = w4.T.dot(dout) # loss gradient of first dense layer outputs\n",
        "    dz[z<=0] = 0\n",
        "\n",
        "    dw3 = dz.dot(fc.T)\n",
        "    db3 = np.sum(dz, axis = 1).reshape(b3.shape)\n",
        "\n",
        "    dfc = w3.T.dot(dz) # loss gradients of fully-connected layer (pooling layer)\n",
        "    dpool = dfc.reshape(pooled.shape) # reshape fully connected into dimensions of pooling layer\n",
        "\n",
        "    dconv2 = maxpoolBackward(dpool, conv2, pool_f, pool_s) # backprop through the max-pooling layer(only neurons with highest activation in window get updated)\n",
        "    dconv2[conv2<=0] = 0\n",
        "\n",
        "    dconv1, df2, db2 = convolutionBackward(dconv2, conv1, f2, conv_s) # backpropagate previous gradient through second convolutional layer.\n",
        "    dconv1[conv1<=0] = 0\n",
        "\n",
        "    dimage, df1, db1 = convolutionBackward(dconv1, image, f1, conv_s) # backpropagate previous gradient through first convolutional layer.\n",
        "\n",
        "    grads = [df1, df2, dw3, dw4, db1, db2, db3, db4]\n",
        "\n",
        "    return grads, loss"
      ]
    },
    {
      "cell_type": "code",
      "execution_count": null,
      "metadata": {
        "id": "o5qvvWsfF6EX"
      },
      "outputs": [],
      "source": [
        "def adamGD(batch, num_classes, lr, dim, n_c, beta1, beta2, params, cost): #1#1#1# Research\n",
        "\n",
        "    #This is an adaptive descent mode\n",
        "\n",
        "    # update the parameters through Adam gradient descnet.\n",
        "\n",
        "    [f1, f2, w3, w4, b1, b2, b3, b4] = params  #Unroll params\n",
        "\n",
        "    X = batch[:,0:-1] # get inputs\n",
        "    X = X.reshape(len(batch), n_c, dim, dim)   #Get input to right format\n",
        "    Y = batch[:,-1] # get labels\n",
        "\n",
        "    cost_ = 0\n",
        "    batch_size = len(batch)   #Should be 32 (May change)\n",
        "\n",
        "    # initialize gradients and momentum,RMS params\n",
        "    df1 = np.zeros(f1.shape)\n",
        "    df2 = np.zeros(f2.shape)\n",
        "    dw3 = np.zeros(w3.shape)\n",
        "    dw4 = np.zeros(w4.shape)\n",
        "    db1 = np.zeros(b1.shape)\n",
        "    db2 = np.zeros(b2.shape)\n",
        "    db3 = np.zeros(b3.shape)\n",
        "    db4 = np.zeros(b4.shape)\n",
        "\n",
        "    v1 = np.zeros(f1.shape)\n",
        "    v2 = np.zeros(f2.shape)\n",
        "    v3 = np.zeros(w3.shape)\n",
        "    v4 = np.zeros(w4.shape)\n",
        "    bv1 = np.zeros(b1.shape)\n",
        "    bv2 = np.zeros(b2.shape)\n",
        "    bv3 = np.zeros(b3.shape)\n",
        "    bv4 = np.zeros(b4.shape)\n",
        "\n",
        "    s1 = np.zeros(f1.shape)\n",
        "    s2 = np.zeros(f2.shape)\n",
        "    s3 = np.zeros(w3.shape)\n",
        "    s4 = np.zeros(w4.shape)\n",
        "    bs1 = np.zeros(b1.shape)\n",
        "    bs2 = np.zeros(b2.shape)\n",
        "    bs3 = np.zeros(b3.shape)\n",
        "    bs4 = np.zeros(b4.shape)\n",
        "\n",
        "    for i in range(batch_size):\n",
        "\n",
        "        x = X[i]\n",
        "        y = np.eye(num_classes)[int(Y[i])].reshape(num_classes, 1) # convert label to one-hot\n",
        "\n",
        "        # Collect Gradients for training example\n",
        "        grads, loss = conv(x, y, params, 1, 2, 2)\n",
        "        [df1_, df2_, dw3_, dw4_, db1_, db2_, db3_, db4_] = grads\n",
        "\n",
        "\n",
        "        #Update the change in values\n",
        "        df1+=df1_\n",
        "        db1+=db1_\n",
        "        df2+=df2_\n",
        "        db2+=db2_\n",
        "        dw3+=dw3_\n",
        "        db3+=db3_\n",
        "        dw4+=dw4_\n",
        "        db4+=db4_\n",
        "\n",
        "        cost_+= loss\n",
        "\n",
        "    # Parameter Update\n",
        "\n",
        "    v1 = beta1*v1 + (1-beta1)*df1/batch_size # momentum update\n",
        "    s1 = beta2*s1 + (1-beta2)*(df1/batch_size)**2 # RMSProp update\n",
        "    f1 -= lr * v1/np.sqrt(s1+1e-7) # combine momentum and RMSProp to perform update with Adam\n",
        "\n",
        "    bv1 = beta1*bv1 + (1-beta1)*db1/batch_size\n",
        "    bs1 = beta2*bs1 + (1-beta2)*(db1/batch_size)**2\n",
        "    b1 -= lr * bv1/np.sqrt(bs1+1e-7)\n",
        "\n",
        "    v2 = beta1*v2 + (1-beta1)*df2/batch_size\n",
        "    s2 = beta2*s2 + (1-beta2)*(df2/batch_size)**2\n",
        "    f2 -= lr * v2/np.sqrt(s2+1e-7)\n",
        "\n",
        "    bv2 = beta1*bv2 + (1-beta1) * db2/batch_size\n",
        "    bs2 = beta2*bs2 + (1-beta2)*(db2/batch_size)**2\n",
        "    b2 -= lr * bv2/np.sqrt(bs2+1e-7)\n",
        "\n",
        "    v3 = beta1*v3 + (1-beta1) * dw3/batch_size\n",
        "    s3 = beta2*s3 + (1-beta2)*(dw3/batch_size)**2\n",
        "    w3 -= lr * v3/np.sqrt(s3+1e-7)\n",
        "\n",
        "    bv3 = beta1*bv3 + (1-beta1) * db3/batch_size\n",
        "    bs3 = beta2*bs3 + (1-beta2)*(db3/batch_size)**2\n",
        "    b3 -= lr * bv3/np.sqrt(bs3+1e-7)\n",
        "\n",
        "    v4 = beta1*v4 + (1-beta1) * dw4/batch_size\n",
        "    s4 = beta2*s4 + (1-beta2)*(dw4/batch_size)**2\n",
        "    w4 -= lr * v4 / np.sqrt(s4+1e-7)\n",
        "\n",
        "    bv4 = beta1*bv4 + (1-beta1)*db4/batch_size\n",
        "    bs4 = beta2*bs4 + (1-beta2)*(db4/batch_size)**2\n",
        "    b4 -= lr * bv4 / np.sqrt(bs4+1e-7)\n",
        "\n",
        "\n",
        "    cost_ = cost_/batch_size  # Divide down as overall cost\n",
        "    cost.append(cost_)        # Put onto big list\n",
        "\n",
        "    params = [f1, f2, w3, w4, b1, b2, b3, b4]  #Roll into 1 list\n",
        "\n",
        "    return params, cost"
      ]
    },
    {
      "cell_type": "code",
      "execution_count": null,
      "metadata": {
        "colab": {
          "base_uri": "https://localhost:8080/"
        },
        "id": "M8BxwX2QF7QK",
        "outputId": "b48fea72-30ce-4433-9978-eb23399f1b13"
      },
      "outputs": [
        {
          "name": "stdout",
          "output_type": "stream",
          "text": [
            "[[192. 138. 153. ... 136. 104. 117.]\n",
            " [ 38.  19.  30. ...  25.  12.  15.]\n",
            " [158. 113. 139. ... 109.  78.  92.]\n",
            " ...\n",
            " [  0.   0.   0. ...   0.   0.   0.]\n",
            " [  0.   0.   0. ...   0.   0.   0.]\n",
            " [  0.   0.   0. ...   0.   0.   0.]] 0        2.0\n",
            "1        2.0\n",
            "2        2.0\n",
            "3        2.0\n",
            "4        2.0\n",
            "        ... \n",
            "11875    1.0\n",
            "11876    1.0\n",
            "11877    1.0\n",
            "11878    1.0\n",
            "11879    1.0\n",
            "Name: label, Length: 11880, dtype: float64\n",
            "[[192. 138. 153. ... 136. 104. 117.]\n",
            " [ 38.  19.  30. ...  25.  12.  15.]\n",
            " [158. 113. 139. ... 109.  78.  92.]\n",
            " ...\n",
            " [  0.   0.   0. ...   0.   0.   0.]\n",
            " [  0.   0.   0. ...   0.   0.   0.]\n",
            " [  0.   0.   0. ...   0.   0.   0.]] 0        2.0\n",
            "1        2.0\n",
            "2        2.0\n",
            "3        2.0\n",
            "4        2.0\n",
            "        ... \n",
            "11875    1.0\n",
            "11876    1.0\n",
            "11877    1.0\n",
            "11878    1.0\n",
            "11879    1.0\n",
            "Name: label, Length: 11880, dtype: float64\n",
            "Learning Rate:0.0125, Batch Size:16\n"
          ]
        },
        {
          "name": "stderr",
          "output_type": "stream",
          "text": [
            "Cost: 2.216: 100%|██████████| 594/594 [40:49<00:00,  4.12s/it]\n",
            "Cost: 1.353: 100%|██████████| 594/594 [40:43<00:00,  4.11s/it]\n",
            "Cost: 1.085: 100%|██████████| 594/594 [40:41<00:00,  4.11s/it]\n",
            "Cost: 1.377: 100%|██████████| 594/594 [40:40<00:00,  4.11s/it]\n"
          ]
        }
      ],
      "source": [
        "def train(num_classes = 7, lr = 0.0125, beta1 = 0.95, beta2 = 0.99, img_dim = 28, img_channels = 3, f = 5, num_filt1 = 8, num_filt2 = 8, batch_size = 16, num_epochs = 4):\n",
        "\n",
        "    # get data\n",
        "\n",
        "    X,y = get_img_matrix()\n",
        "    #print(X,y)\n",
        "\n",
        "    X = np.array(X,dtype=float)\n",
        "\n",
        "\n",
        "    #print(X,y)\n",
        "\n",
        "    X-= int(np.mean(X))\n",
        "    X/= int(np.std(X))\n",
        "\n",
        "    X_train, X_test, y_train, y_test = split(X,np.array(y))\n",
        "\n",
        "    train_data = np.hstack((X_train,y_train.reshape(-1,1)))\n",
        "\n",
        "    np.random.shuffle(train_data)\n",
        "\n",
        "\n",
        "    #f is size of the window that is scanned, so in this case 5x5 window\n",
        "    #Each layer can have a varying number of filters so far is 8, change google says 32\n",
        "    #3 image channels as red green and blue, have data for 1 but oh well\n",
        "    #For the weights, the 128 can be changed but output layer must have 7 and input 800 from the pooling\n",
        "\n",
        "    ##################################################\n",
        "    ####### Initializing all the parameters ##########\n",
        "    ##################################################\n",
        "\n",
        "\n",
        "    #Initialise the filters and weights\n",
        "    f1, f2 =  init_filter((num_filt1 ,img_channels,f,f)), init_filter((num_filt2 ,num_filt1,f,f))\n",
        "    w3, w4 = init_filter((128,800)), init_filter((7, 128))\n",
        "\n",
        "\n",
        "\n",
        "    #Initialise the bias terms for each stage\n",
        "    b1 = np.zeros((f1.shape[0],1))\n",
        "    b2 = np.zeros((f2.shape[0],1))\n",
        "    b3 = np.zeros((w3.shape[0],1))\n",
        "    b4 = np.zeros((w4.shape[0],1))\n",
        "\n",
        "    params = [f1, f2, w3, w4, b1, b2, b3, b4] #Roll\n",
        "\n",
        "    cost = [] # type: List[float]\n",
        "\n",
        "    #LR = learning rate, can be increased at risk\n",
        "    #Batch size is number of items taken every time\n",
        "\n",
        "    print(\"Learning Rate:\"+str(lr)+\", Batch Size:\"+str(batch_size))\n",
        "\n",
        "    for epoch in range(num_epochs):\n",
        "        np.random.shuffle(train_data)\n",
        "        batches = [train_data[k:k + batch_size] for k in range(0, train_data.shape[0], batch_size)]\n",
        "\n",
        "        load_bar = tqdm(batches)\n",
        "        load_bar.set_description(\"Cost: 4\" )  # Cost is appended to array each time\n",
        "\n",
        "        for _,batch in enumerate(load_bar):\n",
        "            params, cost = adamGD(batch, num_classes, lr, img_dim, img_channels, beta1, beta2, params, cost)\n",
        "            load_bar.set_description(f\"Cost: {(cost[-1]) :.3f}\" )\n",
        "\n",
        "    return cost,params\n",
        "cost,params = train()"
      ]
    },
    {
      "cell_type": "code",
      "execution_count": null,
      "metadata": {
        "id": "tDRomEkRKDzi"
      },
      "outputs": [],
      "source": [
        "import pickle\n",
        "\n",
        "\n",
        "with open('objs.pkl', 'wb') as f:  # Python 3: open(..., 'wb')\n",
        "    pickle.dump(params, f)"
      ]
    },
    {
      "cell_type": "code",
      "execution_count": null,
      "metadata": {
        "id": "IbY1qH47C4Za"
      },
      "outputs": [],
      "source": [
        "def predict(image, f1, f2, w3, w4, b1, b2, b3, b4, conv_s=1, pool_f = 2, pool_s = 2):\n",
        "\n",
        "  #Run an image through the CNN using the parameters\n",
        "\n",
        "  conv1 = convolution(image, f1, b1)\n",
        "  conv1 = relu(conv1)               # Relu check\n",
        "\n",
        "  conv2 = convolution(conv1, f2, b2)\n",
        "  conv2 = relu(conv2)\n",
        "\n",
        "  pooled = maxpool(conv2)\n",
        "  (nf2, dim2, _) = pooled.shape\n",
        "  fc = pooled.reshape((nf2 * dim2 * dim2, 1))  # Flattened\n",
        "\n",
        "  # Now do predicting with ANN\n",
        "\n",
        "  z = w3.dot(fc) + b3 # first dense layer\n",
        "  z = relu(z) # [z<=0] = 0 # pass through ReLU non-linearity\n",
        "\n",
        "  out = w4.dot(z) + b4 # second dense layer\n",
        "  probs = softmax(out) # predict class probabilities with the softmax activation function\n",
        "  #print(np.argmax(probs))\n",
        "  return np.argmax(probs), np.max(probs)\n",
        "\n"
      ]
    },
    {
      "cell_type": "code",
      "execution_count": null,
      "metadata": {
        "colab": {
          "base_uri": "https://localhost:8080/",
          "height": 265
        },
        "id": "gdM6JArAagVM",
        "outputId": "ddad5c47-8c30-46fa-d1cd-4a70adf6d574"
      },
      "outputs": [
        {
          "data": {
            "image/png": "[encoded data removed]",
            "text/plain": [
              "<Figure size 432x288 with 1 Axes>"
            ]
          },
          "metadata": {},
          "output_type": "display_data"
        }
      ],
      "source": [
        "plt.plot(cost,'r') # Plot the cost over each iteration, maybe consider moving average\n",
        "plt.xlabel = 'No. Iterations'\n",
        "plt.show()"
      ]
    },
    {
      "cell_type": "code",
      "execution_count": null,
      "metadata": {
        "colab": {
          "base_uri": "https://localhost:8080/",
          "height": 372
        },
        "id": "Q7n_rOcYbwWr",
        "outputId": "bfd264ef-14d3-4e8e-9618-a4b4ca751efe"
      },
      "outputs": [
        {
          "name": "stdout",
          "output_type": "stream",
          "text": [
            "[ True  True  True ...  True  True  True]\n",
            "[1, 0, 1, 1, 1, 1, 1, 0, 1, 1, 0, 1, 1, 1, 0, 1, 0, 0, 1, 1, 0, 1, 0, 1, 0, 0, 0, 1, 1, 0, 0, 1, 0, 1, 0, 0, 1, 0, 1, 1, 1, 0, 1, 1, 0, 0, 0, 1, 1, 1, 1, 1, 0, 0, 0, 0, 1, 0, 0, 0, 0, 1, 0, 0, 1, 0, 0, 1, 1, 1, 1, 1, 0, 0, 0, 0, 1, 0, 1, 0, 1, 0, 1, 0, 0, 1, 0, 1, 1, 0, 1, 0, 1, 0, 0, 0, 0, 1, 0, 1, 0, 1, 0, 0, 1, 1, 1, 1, 0, 0, 0, 1, 1, 0, 1, 0, 0, 0, 1, 1, 0, 0, 0, 0, 0, 0, 1, 1, 0, 1, 1, 0, 1, 1, 1, 0, 1, 1, 0, 1, 1, 0, 0, 0, 1, 1, 1, 0, 0, 0, 1, 1, 1, 1, 0, 1, 0, 1, 1, 1, 1, 1, 0, 0, 1, 0, 0, 1, 0, 0, 1, 0, 0, 0, 0, 0, 0, 1, 1, 1, 1, 1, 1, 1, 1, 0, 1, 1, 0, 0, 1, 0, 1, 0, 1, 1, 0, 0, 1, 1, 1, 0, 1, 1, 1, 1, 1, 0, 0, 1, 0, 1, 1, 0, 1, 0, 1, 0, 1, 0, 0, 1, 1, 1, 1, 1, 0, 1, 0, 1, 1, 1, 1, 1, 1, 0, 1, 1, 0, 0, 0, 1, 1, 1, 1, 1, 1, 0, 1, 0, 1, 0, 0, 1, 0, 0, 1, 1, 0, 1, 0, 0, 1, 1, 0, 1, 0, 1, 1, 1, 0, 0, 0, 1, 0, 1, 0, 0, 1, 0, 1, 1, 1, 0, 1, 1, 0, 0, 0, 1, 1, 1, 1, 0, 1, 0, 0, 0, 0, 1, 1, 1, 1, 1, 0, 0, 0, 1, 1, 0, 1, 0, 0, 0, 1, 0, 1, 0, 0, 0, 0, 0, 1, 0, 1, 0, 1, 0, 0, 1, 0, 0, 0, 1, 1, 0, 1, 0, 1, 1, 1, 0, 1, 1, 0, 1, 0, 1, 0, 1, 1, 1, 1, 0, 0, 1, 1, 1, 1, 1, 0, 1, 1, 0, 1, 0, 1, 1, 0, 0, 0, 0, 0, 0, 0, 1, 1, 1, 1, 1, 1, 0, 0, 1, 0, 0, 1, 0, 0, 1, 1, 1, 1, 0, 0, 1, 0, 0, 0, 1, 1, 1, 1, 1, 0, 1, 1, 0, 0, 0, 1, 0, 0, 0, 0, 1, 0, 0, 0, 1, 1, 1, 0, 0, 1, 1, 0, 0, 1, 1, 1, 0, 0, 1, 1, 0, 1, 1, 1, 1, 0, 1, 1, 0, 0, 1, 0, 0, 1, 0, 1, 0, 0, 0, 0, 1, 1, 1, 1, 0, 0, 0, 1, 1, 1, 1, 1, 0, 0, 1, 1, 0, 1, 0, 1, 1, 1, 0, 0, 0, 1, 1, 1, 0, 0, 0, 0, 0, 0, 0, 0, 1, 0, 1, 1, 0, 1, 0, 0, 1, 1, 1, 0, 1, 1, 1, 1, 1, 0, 1, 1, 0, 1, 0, 1, 0, 0, 1, 0, 0, 0, 1, 0, 1, 1, 0, 1, 0, 0, 1, 1, 0, 1, 1, 0, 0, 0, 0, 1, 0, 0, 1, 1, 0, 1, 1, 0, 0, 0, 1, 1, 1, 1, 1, 1, 1, 0, 1, 0, 0, 0, 1, 1, 0, 1, 0, 1, 0, 0, 1, 1, 1, 0, 0, 1, 0, 1, 1, 1, 1, 0, 1, 1, 1, 1, 1, 1, 0, 1, 0, 1, 0, 1, 0, 0, 0, 0, 0, 0, 0, 1, 1, 0, 1, 1, 1, 1, 0, 0, 0, 0, 1, 1, 0, 1, 1, 0, 1, 0, 1, 1, 0, 0, 0, 1, 0, 0, 1, 0, 1, 0, 0, 0, 1, 1, 1, 1, 0, 0, 1, 0, 0, 0, 1, 1, 0, 0, 1, 0, 0, 1, 0, 0, 0, 1, 1, 0, 1, 0, 1, 1, 1, 1, 1, 1, 0, 1, 0, 0, 1, 1, 0, 0, 1, 1, 1, 0, 0, 0, 1, 1, 1, 0, 1, 1, 0, 0, 1, 1, 0, 1, 0, 1, 1, 1, 1, 0, 1, 1, 0, 1, 0, 0, 1, 1, 1, 0, 1, 1, 1, 1, 1, 1, 1, 0, 1, 1, 0, 1, 1, 0, 0, 1, 1, 0, 0, 1, 0, 1, 1, 1, 1, 0, 1, 1, 1, 1, 1, 1, 0, 1, 1, 0, 1, 0, 0, 1, 1, 1, 0, 1, 1, 0, 1, 1, 0, 1, 0, 1, 0, 1, 0, 0, 1, 1, 0, 0, 1, 1, 0, 1, 0, 0, 0, 0, 0, 0, 0, 1, 0, 0, 0, 0, 1, 0, 1, 1, 0, 0, 0, 0, 1, 1, 0, 1, 1, 1, 1, 1, 1, 0, 1, 0, 0, 0, 0, 1, 0, 0, 0, 0, 0, 1, 1, 1, 1, 1, 1, 0, 1, 0, 1, 0, 1, 1, 1, 1, 0, 0, 1, 0, 0, 0, 0, 0, 0, 1, 1, 0, 0, 0, 1, 0, 0, 0, 1, 1, 1, 0, 0, 0, 1, 0, 1, 0, 0, 0, 1, 1, 0, 1, 1, 0, 1, 0, 0, 0, 1, 1, 0, 1, 0, 1, 1, 1, 0, 1, 0, 0, 1, 0, 1, 0, 1, 1, 1, 1, 1, 1, 0, 1, 0, 0, 0, 0, 0, 0, 1, 0, 1, 1, 1, 0, 0, 1, 0, 1, 0, 0, 1, 1, 0, 1, 1, 1, 1, 0, 1, 1, 1, 0, 0, 1, 1, 0, 1, 1, 0, 0, 1, 1, 1, 0, 0, 1, 1, 0, 0, 0, 0, 1, 0, 0, 0, 0, 0, 1, 1, 0, 1, 0, 0, 1, 1, 1, 1, 0, 1, 1, 0, 0, 1, 0, 1, 1, 1, 1, 0, 0, 0, 1, 0, 0, 1, 1, 0, 0, 0, 1, 1, 1, 1, 1, 0, 0, 1, 1, 1, 1, 1, 0, 1, 0, 1, 1, 0, 1, 1, 1, 1, 1, 0, 1, 0, 0, 0, 0, 0, 1, 0, 0, 0, 1, 1, 1, 1, 0, 1, 1, 0, 1, 0, 1, 0, 0, 0, 1, 0, 1, 1, 0, 1, 1, 1, 0, 0, 0, 1, 0, 0, 1, 1, 1, 0, 0, 0, 0, 0, 1, 0, 0, 1, 1, 1, 0, 0, 1, 0, 1, 0, 1, 0, 0, 1, 1, 0, 0, 1, 0, 1, 1, 0, 0, 1, 1, 1, 0, 0, 0, 0, 1, 0, 1, 0, 0, 0, 0, 0, 1, 1, 1, 1, 1, 0, 1, 0, 1, 0, 0, 1, 0, 1, 0, 1, 1, 1, 1, 0, 0, 1, 0, 0, 1, 0, 0, 1, 1, 0, 0, 0, 1, 0, 0, 1, 1, 1, 1, 1, 0, 1, 0, 1, 0, 1, 0, 1, 0, 1, 0, 1, 0, 0, 1, 0, 0, 1, 1, 1, 0, 1, 0, 0, 1, 1, 1, 1, 1, 0, 0, 1, 1, 1, 1, 0, 0, 1, 0, 0, 0, 0, 0, 0, 1, 0, 1, 1, 0, 1, 0, 1, 1, 0, 1, 0, 1, 1, 0, 1, 0, 1, 1, 1, 1, 1, 0, 1, 0, 1, 0, 1, 0, 1, 1, 1, 0, 0, 1, 1, 1, 0, 1, 0, 1, 1, 1, 0, 1, 1, 1, 1, 0, 0, 1, 1, 1, 1, 1, 0, 0, 1, 0, 0, 1, 0, 1, 1, 1, 0, 0, 0, 0, 0, 0, 0, 1, 1, 0, 1, 1, 1, 1, 1, 0, 0, 0, 0, 1, 0, 0, 0, 1, 1, 0, 1, 1, 0, 0, 0, 0, 1, 1, 0, 0, 1, 0, 1, 0, 1, 1, 0, 0, 0, 0, 1, 1, 1, 0, 1, 0, 0, 0, 1, 1, 1, 0, 0, 1, 0, 0, 1, 1, 1, 0, 0, 1, 0, 1, 1, 0, 1, 1, 0, 0, 1, 1, 0, 1, 0, 0, 1, 0, 0, 0, 1, 1, 1, 1, 0, 1, 1, 1, 1, 0, 0, 1, 0, 0, 0, 0, 1, 0, 0, 0, 0, 1, 0, 1, 0, 0, 1, 1, 1, 1, 0, 0, 1, 1, 1, 1, 0, 1, 0, 1, 1, 0, 0, 0, 0, 1, 0, 0, 1, 1, 1, 1, 0, 1, 0, 0, 1, 0, 0, 0, 1, 1, 0, 0, 0, 0, 0, 1, 1, 0, 0, 1, 0, 1, 0, 0, 0, 1, 0, 0, 1, 0, 0, 1, 1, 0, 1, 1, 1, 0, 0, 1, 1, 1, 1, 0, 1, 1, 0, 0, 1, 1, 1, 0, 0, 0, 0, 0, 1, 0, 1, 0, 1, 1, 1, 0, 0, 1, 0, 1, 1, 0, 0, 1, 1, 0, 0, 0, 1, 1, 1, 1, 0, 1, 0, 0, 1, 1, 0, 0, 0, 0, 0, 0, 1, 1, 1, 0, 1, 1, 0, 1, 1, 1, 1, 1, 1, 0, 1, 0, 0, 1, 0, 1, 0, 1, 1, 1, 1, 0, 1, 1, 0, 0, 0, 1, 1, 1, 0, 0, 1, 0, 1, 1, 1, 0, 0, 0, 1, 0, 0, 1, 1, 1, 0, 1, 0, 0, 1, 1, 1, 0, 0, 0, 1, 0, 1, 0, 1, 0, 0, 1, 1, 1, 1, 0, 0, 1, 1, 1, 1, 1, 1, 1, 0, 1, 0, 1, 1, 0, 1, 0, 0, 0, 1, 1, 1, 1, 0, 0, 1, 1, 1, 1, 0, 0, 1, 1, 1, 1, 1, 0, 1, 0, 0, 1, 1, 1, 1, 0, 0, 1, 1, 0, 1, 0, 1, 1, 0, 0, 1, 0, 1, 1, 0, 0, 1, 0, 0, 1, 1, 1, 1, 0, 0, 0, 1, 1, 1, 0, 1, 0, 0, 1, 0, 1, 0, 1, 1, 0, 1, 1, 0, 1, 1, 0, 1, 0, 0, 0, 0, 1, 1, 1, 1, 0, 1, 0, 0, 1, 1, 1, 0, 0, 0, 1, 1, 1, 0, 0, 1, 1, 1, 1, 0, 1, 1, 1, 1, 1, 0, 1, 0, 0, 0, 0, 0, 0, 1, 1, 1, 0, 0, 0, 1, 1, 1, 1, 0, 0, 0, 1, 0, 1, 1, 0, 0, 1, 0, 0, 1, 1, 0, 1, 0, 1, 0, 0, 1, 0, 1, 1, 0, 1, 1, 0, 0, 0, 1, 0, 1, 1, 0, 0, 0, 0, 1, 1, 0, 1, 1, 0, 1, 1, 0, 1, 0, 1, 1, 0, 1, 1, 1, 0, 0, 0, 0, 0, 0, 1, 1, 0, 0, 1, 1, 0, 0, 1, 0, 1, 1, 1, 1, 0, 1, 1, 1, 0, 0, 0, 1, 0, 1, 1, 0, 0, 0, 1, 1, 0, 0, 0, 1, 0, 1, 1, 1, 0, 1, 1, 1, 1, 1, 0, 1, 1, 1, 1, 1, 1, 0, 1, 1, 0, 0, 1, 0, 0, 1, 1, 1, 0, 1, 1, 0, 1, 0, 0, 0, 0, 0, 0, 1, 0, 0, 1, 0, 1, 1, 1, 0, 1, 0, 0, 0, 1, 1, 1, 1, 1, 0, 1, 1, 0, 0, 0, 1, 1, 0, 1, 1, 0, 0, 0, 1, 1, 1, 1, 1, 1, 1, 0, 1, 1, 0, 1, 1, 0, 1, 0, 0, 1, 0, 1, 1, 1, 1, 0, 1, 0, 1, 0, 1, 1, 1, 0, 1, 1, 1, 0, 1, 1, 1, 1, 1, 0, 0, 0, 0, 0, 1, 0, 1, 0, 1, 1, 0, 1, 0, 0, 1, 0, 0, 1, 0, 1, 0, 0, 0, 1, 1, 0, 0, 0, 1, 0, 0, 0, 1, 1, 1, 1, 1, 1, 0, 1, 0, 1, 1, 1, 1, 0, 0, 0, 1, 1, 1, 0, 0, 1, 0, 0, 1, 1, 0, 0, 1, 1, 0, 0, 1, 1, 0, 0, 1, 0, 0, 1, 1, 0, 0, 0, 0, 0, 0, 1, 1, 0, 0, 1, 0, 1, 1, 1, 1, 1, 0, 1, 1, 1, 0, 1, 1, 0, 0, 1, 1, 0, 1, 1, 0, 0, 0, 0, 1, 0, 0, 0, 1, 1, 0, 1, 1, 1, 0, 0, 1, 1, 0, 0, 1, 0, 1, 0, 0, 1, 1, 0, 0, 0, 0, 1, 1, 0, 1, 1, 1, 1, 1, 0, 1, 0, 1, 0, 0, 1, 1, 0, 0, 0, 1, 0, 1, 1, 0, 0, 1, 0, 0, 1, 0, 0, 1, 1, 1, 0, 1, 1, 0, 1, 1, 0, 0, 1, 0, 1, 1, 1, 0, 1, 0, 0, 1, 0, 0, 1, 0, 1, 0, 1, 1, 0, 1, 0, 0, 0, 1, 0, 1, 1, 0, 1, 1, 1, 1, 0, 0, 0, 1, 1, 0, 0, 1, 0, 0, 0, 1, 0, 0, 0, 0, 0, 0, 1, 0, 1, 1, 1, 1, 1, 0, 1, 1, 0, 1, 0, 1, 1, 1, 1, 1, 1, 1, 1, 0, 0, 0, 0, 0, 1, 0, 1, 1, 1, 1, 0, 0, 1, 1, 1, 0, 0, 0, 0, 0, 1, 0, 0, 0, 1, 1, 0, 1, 1, 1, 1, 1, 1, 1, 1, 1, 1, 1, 1, 0, 1, 0, 1, 0, 0, 1, 1, 1, 1, 1, 1, 0, 1, 1, 1, 0, 0, 0, 0, 0, 0, 0, 0, 1, 1, 0, 0, 1, 1, 0, 1, 0, 0, 0, 1, 0, 1, 1, 1, 1, 0, 1, 1, 0, 0, 0, 1, 0, 1, 0, 1, 0, 0, 0, 0, 1, 1, 1, 0, 0, 1, 0, 1, 1, 1, 0, 1, 1, 1, 0, 1, 1, 0, 0, 0, 1, 0, 0, 0, 1, 0, 0, 0, 0, 0, 1, 1, 0, 1, 1, 1, 0, 0, 0, 1, 1, 0, 0, 1, 1, 0, 1, 1, 0, 1, 0, 1, 0, 0, 1, 1, 0, 0, 1, 0, 0, 1, 0, 0, 1, 0, 1, 1, 1, 1, 0, 1, 1, 1, 1, 0, 1, 0, 1, 0, 0, 1, 0, 0, 1, 0, 1, 0, 0, 1, 0, 0, 1, 0, 1, 0, 1, 0, 1, 0, 1, 1, 1, 0, 0, 1, 1, 0, 1, 1, 1, 0, 1, 1, 1, 0, 0, 1, 1, 0, 1, 1, 1, 0, 0, 1, 0, 0, 1, 1, 0, 1, 0, 1, 0, 1, 0, 1, 1, 0, 1, 1, 0]\n",
            "[2. 0. 2. ... 3. 2. 1.]\n",
            "Computing accuracy over test set:\n"
          ]
        },
        {
          "name": "stderr",
          "output_type": "stream",
          "text": [
            "100%|██████████| 2376/2376 [05:32<00:00,  7.14it/s]\n"
          ]
        },
        {
          "data": {
            "image/png": "[encoded data removed]",
            "text/plain": [
              "<Figure size 432x288 with 1 Axes>"
            ]
          },
          "metadata": {},
          "output_type": "display_data"
        }
      ],
      "source": [
        "[f1, f2, w3, w4, b1, b2, b3, b4] = params       # Unload parameters\n",
        "\n",
        "# get data again, duplicated\n",
        "X,y = get_img_matrix()\n",
        "X = np.array(X,dtype=float)  # Needs to be float to do division\n",
        "\n",
        "X-= int(np.mean(X))   #Making into normal, close to 0\n",
        "X/= int(np.std(X))\n",
        "\n",
        "X_train, X_test, y_train, y_test = split(X,np.array(y))\n",
        "test_data = np.hstack((X_test,y_test.reshape(-1,1)))  #combined\n",
        "\n",
        "X = test_data[:,0:-1]\n",
        "X = X.reshape(-1, 3, 28, 28)    #Fit into correct format for filters\n",
        "\n",
        "y = test_data[:,-1]             #Unflip\n",
        "print(y==y_test)\n",
        "ys = [1 if each == 2 or each == 4 or each == 3 else 0 for each in y]\n",
        "print(ys)\n",
        "print(y)\n",
        "corr = 0\n",
        "count = [0 for i in range(7)]\n",
        "correct = [0 for i in range(7)]\n",
        "s,f = 0,0\n",
        "#print()\n",
        "print(\"Computing accuracy over test set:\")\n",
        "\n",
        "t = tqdm(range(len(X)), leave=True)\n",
        "#t = range(len(X))\n",
        "for i in t:\n",
        "    x = X[i]\n",
        "    pred, prob = predict(x, f1, f2, w3, w4, b1, b2, b3, b4)\n",
        "    #print(pred,y[i])\n",
        "    if (pred==2 or pred==5 or pred==3) and (ys[i]==2 or ys[i]==5 or ys[i]==3):\n",
        "      s +=1\n",
        "    else:\n",
        "      if  (not (pred==2 or pred==5 or pred==3)) and (not (ys[i]==2 or ys[i]==5 or ys[i]==3)):\n",
        "        s +=1\n",
        "\n",
        "    count[int(y[i])]+=1\n",
        "    if pred==y[i]:\n",
        "        corr+=1\n",
        "        correct[pred]+=1\n",
        "\n",
        "\n",
        "\n",
        "#print(\"Overall Accuracy: %.3f\" % (float(corr/len(test_data)*100)))\n",
        "#print(\"Overall Accuracy 2: %.3f\" % (float(s/len(test_data)*100)))\n",
        "x = np.arange(7)\n",
        "recall = [x/y for x,y in zip(correct, count)]\n",
        "plt.xlabel = 'Classes'\n",
        "plt.ylabel = 'Recall'\n",
        "plt.title = \"Recall on Test Set\"\n",
        "plt.bar(x,recall)\n",
        "plt.show()\n",
        "\n",
        "#Need to split 7 cats into 2....\n",
        "\n"
      ]
    },
    {
      "cell_type": "code",
      "execution_count": null,
      "metadata": {
        "colab": {
          "base_uri": "https://localhost:8080/"
        },
        "id": "bTxjipWr6p2e",
        "outputId": "ebba2528-37fd-44e5-86fc-cf6e6d1c8ca7"
      },
      "outputs": [
        {
          "name": "stdout",
          "output_type": "stream",
          "text": [
            "Overall Accuracy: 53.535\n",
            "Overall Accuracy 2: 77.525\n"
          ]
        }
      ],
      "source": [
        "print(\"Overall Accuracy: %.3f\" % (float(corr/len(test_data)*100)))\n",
        "print(\"Overall Accuracy 2: %.3f\" % (float(s/len(test_data)*100)))\n",
        "\n",
        "[f1, f2, w3, w4, b1, b2, b3, b4] = params\n",
        "\n",
        "#print(repr(params[0]))\n",
        "\n",
        "\n",
        "\n"
      ]
    },
    {
      "cell_type": "code",
      "execution_count": null,
      "metadata": {
        "id": "atvgAvAaNMUQ"
      },
      "outputs": [],
      "source": [
        "with open('objs.pkl','rb') as f:  # Python 3: open(..., 'rb')\n",
        "    params2 = pickle.load(f)"
      ]
    },
    {
      "cell_type": "code",
      "execution_count": null,
      "metadata": {
        "id": "Ht4yp2IBNVXg"
      },
      "outputs": [],
      "source": [
        "print(len(params2))\n",
        "print(len(params))"
      ]
    },
    {
      "cell_type": "code",
      "execution_count": null,
      "metadata": {
        "id": "UfPRTqSHw4v6"
      },
      "outputs": [],
      "source": [
        "df = pd.read_csv('Images/out2.csv')\n",
        "\n",
        "column_names = list(range(1,2353))\n",
        "column_names.append('label')\n",
        "df.columns = column_names\n",
        "\n",
        "print(df['label'][0:10])\n",
        "\n",
        "X = df.drop(['label'], axis=1)\n",
        "\n",
        "\n",
        "\n",
        "\n",
        "X1 = np.array(X, dtype='uint8')\n",
        "print(X1[0].shape)\n",
        "image = X1[0].reshape(28,28,3)\n",
        "\n",
        "print(image)\n",
        "print(image.shape)\n",
        "#print(X1[0])\n",
        "#print(type(image[0][0][0]))\n",
        "print('=====================================')\n",
        "new_image = np.array(rotation(image),dtype='uint8').reshape(28,28,3)\n",
        "#print(';;;;;;;;;;;;;;;;;;;;;;;;;;;;;;;;;')\n",
        "\n",
        "plt.imshow(new_image)\n",
        "plt.savefig('out.png', bbox_inches='tight', pad_inches=0)\n",
        "\n"
      ]
    },
    {
      "cell_type": "code",
      "execution_count": null,
      "metadata": {
        "id": "bOyvyv1TyPo6",
        "colab": {
          "base_uri": "https://localhost:8080/"
        },
        "outputId": "f0f05b56-4e3a-481d-ebc9-263ce00c2680"
      },
      "outputs": [
        {
          "output_type": "stream",
          "name": "stdout",
          "text": [
            "[[[ 2 17]\n",
            "  [45 78]]\n",
            "\n",
            " [[88 92]\n",
            "  [60 76]]\n",
            "\n",
            " [[76 33]\n",
            "  [20 18]]]\n",
            "\n"
          ]
        },
        {
          "output_type": "execute_result",
          "data": {
            "text/plain": [
              "array([[[78.]],\n",
              "\n",
              "       [[92.]],\n",
              "\n",
              "       [[76.]]])"
            ]
          },
          "metadata": {},
          "execution_count": 13
        }
      ],
      "source": [
        "#x = (np.array([[3,1,7,2],[5,1,0,9],[8,2,4,9],[4,3,1,1]]))\n",
        "#x = np.zeros((2,3,4))\n",
        "test_data = np.array([[[2,17], [45, 78]], [[88, 92], [60, 76]],[[76,33],[20,18]]])\n",
        "print(test_data)\n",
        "print('')\n",
        "maxpool(test_data)"
      ]
    },
    {
      "cell_type": "code",
      "execution_count": null,
      "metadata": {
        "id": "E1Nq3oS3RU2Y"
      },
      "outputs": [],
      "source": [
        "from typing import KeysView\n",
        "from selenium import webdriver\n",
        "from selenium.webdriver.common.keys import Keys\n",
        "\n",
        "    def Load():\n",
        "        driver = self.driver\n",
        "        driver.get(\"https://localhost:5000/\")\n",
        "        driver.able('JS',False)\n",
        "        Keys.send_keys(Keys.RETURN)\n",
        "        return(driver)\n",
        "\n",
        "\n",
        "\n",
        "\n"
      ]
    },
    {
      "cell_type": "code",
      "execution_count": null,
      "metadata": {
        "id": "oLjquGvXRVJu"
      },
      "outputs": [],
      "source": [
        "import pickle\n",
        "\n",
        "\n",
        "with open('objs.pkl', 'wb') as f:  # Python 3: open(..., 'wb')\n",
        "    pickle.dump(params, f)"
      ]
    }
  ],
  "metadata": {
    "colab": {
      "provenance": [],
      "authorship_tag": "ABX9TyN/pVMFkIqn4fewFDwX8kQx",
      "include_colab_link": true
    },
    "kernelspec": {
      "display_name": "Python 3",
      "name": "python3"
    },
    "language_info": {
      "name": "python"
    }
  },
  "nbformat": 4,
  "nbformat_minor": 0
}